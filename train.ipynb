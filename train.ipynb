{
 "cells": [
  {
   "cell_type": "markdown",
   "metadata": {},
   "source": [
    "taken from tutoral at https://arielycliu.medium.com/classifying-food-with-computer-vision-a473249cf2f2#eb38 \n"
   ]
  },
  {
   "cell_type": "code",
   "execution_count": 1,
   "metadata": {},
   "outputs": [
    {
     "name": "stderr",
     "output_type": "stream",
     "text": [
      "2024-02-26 00:19:40.462980: I tensorflow/core/util/port.cc:113] oneDNN custom operations are on. You may see slightly different numerical results due to floating-point round-off errors from different computation orders. To turn them off, set the environment variable `TF_ENABLE_ONEDNN_OPTS=0`.\n",
      "2024-02-26 00:19:40.465451: I external/local_tsl/tsl/cuda/cudart_stub.cc:31] Could not find cuda drivers on your machine, GPU will not be used.\n",
      "2024-02-26 00:19:40.496210: E external/local_xla/xla/stream_executor/cuda/cuda_dnn.cc:9261] Unable to register cuDNN factory: Attempting to register factory for plugin cuDNN when one has already been registered\n",
      "2024-02-26 00:19:40.496242: E external/local_xla/xla/stream_executor/cuda/cuda_fft.cc:607] Unable to register cuFFT factory: Attempting to register factory for plugin cuFFT when one has already been registered\n",
      "2024-02-26 00:19:40.497192: E external/local_xla/xla/stream_executor/cuda/cuda_blas.cc:1515] Unable to register cuBLAS factory: Attempting to register factory for plugin cuBLAS when one has already been registered\n",
      "2024-02-26 00:19:40.502939: I external/local_tsl/tsl/cuda/cudart_stub.cc:31] Could not find cuda drivers on your machine, GPU will not be used.\n",
      "2024-02-26 00:19:40.503811: I tensorflow/core/platform/cpu_feature_guard.cc:182] This TensorFlow binary is optimized to use available CPU instructions in performance-critical operations.\n",
      "To enable the following instructions: AVX2 AVX512F AVX512_VNNI FMA, in other operations, rebuild TensorFlow with the appropriate compiler flags.\n",
      "2024-02-26 00:19:41.411657: W tensorflow/compiler/tf2tensorrt/utils/py_utils.cc:38] TF-TRT Warning: Could not find TensorRT\n"
     ]
    }
   ],
   "source": [
    "import numpy as np\n",
    "import pandas as pd\n",
    "import tensorflow as tf\n",
    "from tensorflow.keras.preprocessing.image import ImageDataGenerator\n",
    "import matplotlib.pyplot as plt\n",
    "import matplotlib.image as mpimg\n"
   ]
  },
  {
   "cell_type": "markdown",
   "metadata": {},
   "source": [
    "#### Constants"
   ]
  },
  {
   "cell_type": "code",
   "execution_count": 2,
   "metadata": {},
   "outputs": [],
   "source": [
    "image_size = (256, 256)\n",
    "input_shape = (256, 256, 3)\n",
    "val_split = 0.2\n",
    "img_path = \"pictures/kaggleset/\""
   ]
  },
  {
   "cell_type": "code",
   "execution_count": null,
   "metadata": {},
   "outputs": [],
   "source": []
  },
  {
   "cell_type": "code",
   "execution_count": 3,
   "metadata": {},
   "outputs": [
    {
     "name": "stdout",
     "output_type": "stream",
     "text": [
      "Found 3115 images belonging to 36 classes.\n",
      "Found 359 images belonging to 36 classes.\n",
      "{'apple': 0, 'banana': 1, 'beetroot': 2, 'bell pepper': 3, 'cabbage': 4, 'capsicum': 5, 'carrot': 6, 'cauliflower': 7, 'chilli pepper': 8, 'corn': 9, 'cucumber': 10, 'eggplant': 11, 'garlic': 12, 'ginger': 13, 'grapes': 14, 'jalepeno': 15, 'kiwi': 16, 'lemon': 17, 'lettuce': 18, 'mango': 19, 'onion': 20, 'orange': 21, 'paprika': 22, 'pear': 23, 'peas': 24, 'pineapple': 25, 'pomegranate': 26, 'potato': 27, 'raddish': 28, 'soy beans': 29, 'spinach': 30, 'sweetcorn': 31, 'sweetpotato': 32, 'tomato': 33, 'turnip': 34, 'watermelon': 35}\n"
     ]
    }
   ],
   "source": [
    "#DATAGEN -- downsize, get train/test \n",
    "data_gen = ImageDataGenerator(rescale=1./255, validation_split=0.2)\n",
    "train_gen = data_gen.flow_from_directory(img_path + 'train', target_size=image_size)\n",
    "test_gen = data_gen.flow_from_directory(img_path + 'test', target_size=image_size)\n",
    "print(train_gen.class_indices)"
   ]
  },
  {
   "cell_type": "markdown",
   "metadata": {},
   "source": [
    "#### InceptionV3\n"
   ]
  },
  {
   "cell_type": "code",
   "execution_count": 4,
   "metadata": {},
   "outputs": [],
   "source": [
    "from tensorflow.keras.applications import InceptionV3\n",
    "model = InceptionV3(weights=\"imagenet\", input_shape=input_shape, include_top=False)\n",
    "model.trainable = False"
   ]
  },
  {
   "cell_type": "code",
   "execution_count": 5,
   "metadata": {},
   "outputs": [
    {
     "name": "stdout",
     "output_type": "stream",
     "text": [
      "Model: \"sequential\"\n",
      "_________________________________________________________________\n",
      " Layer (type)                Output Shape              Param #   \n",
      "=================================================================\n",
      " inception_v3 (Functional)   (None, 6, 6, 2048)        21802784  \n",
      "                                                                 \n",
      " global_average_pooling2d (  (None, 2048)              0         \n",
      " GlobalAveragePooling2D)                                         \n",
      "                                                                 \n",
      " dense (Dense)               (None, 64)                131136    \n",
      "                                                                 \n",
      " dropout (Dropout)           (None, 64)                0         \n",
      "                                                                 \n",
      " dense_1 (Dense)             (None, 36)                2340      \n",
      "                                                                 \n",
      "=================================================================\n",
      "Total params: 21936260 (83.68 MB)\n",
      "Trainable params: 133476 (521.39 KB)\n",
      "Non-trainable params: 21802784 (83.17 MB)\n",
      "_________________________________________________________________\n"
     ]
    }
   ],
   "source": [
    "from tensorflow.keras import layers\n",
    "from tensorflow.keras.models import Sequential\n",
    "from tensorflow.keras.layers import Dense, Activation, Dropout, Conv2D, MaxPool2D, GlobalAveragePooling2D\n",
    "old_model = model\n",
    "model = Sequential()\n",
    "model.add(old_model)\n",
    "model.add(GlobalAveragePooling2D())\n",
    "model.add(Dense(64, activation=\"relu\"))\n",
    "model.add(Dropout(0.3))\n",
    "model.add(Dense(36, activation='softmax'))\n",
    "model.summary()"
   ]
  },
  {
   "cell_type": "code",
   "execution_count": 6,
   "metadata": {},
   "outputs": [],
   "source": [
    "#training\n",
    "from tensorflow.keras.optimizers import Adam\n",
    "model.compile(optimizer=\"adam\",\n",
    "               loss='categorical_crossentropy',\n",
    "                 metrics=['accuracy'])"
   ]
  },
  {
   "cell_type": "code",
   "execution_count": 7,
   "metadata": {},
   "outputs": [],
   "source": [
    "from tensorflow.keras.callbacks import EarlyStopping, ModelCheckpoint\n",
    "es = EarlyStopping(min_delta=0.001, patience=5, restore_best_weights=True)\n",
    "cp = ModelCheckpoint(filepath='temp_model.hdf5', verbose=1, save_best_only=True, save_weights_only=True)\n"
   ]
  },
  {
   "cell_type": "code",
   "execution_count": 8,
   "metadata": {},
   "outputs": [
    {
     "name": "stdout",
     "output_type": "stream",
     "text": [
      "Epoch 1/30\n",
      " 2/98 [..............................] - ETA: 2:33 - loss: 3.8241 - accuracy: 0.1094"
     ]
    },
    {
     "name": "stderr",
     "output_type": "stream",
     "text": [
      "/home/ananthk/capstone/SCRAPS-ML/venv/lib/python3.10/site-packages/PIL/Image.py:981: UserWarning: Palette images with Transparency expressed in bytes should be converted to RGBA images\n",
      "  warnings.warn(\n"
     ]
    },
    {
     "name": "stdout",
     "output_type": "stream",
     "text": [
      "98/98 [==============================] - ETA: 0s - loss: 2.4301 - accuracy: 0.3493\n",
      "Epoch 1: val_loss improved from inf to 1.02176, saving model to temp_model.hdf5\n",
      "98/98 [==============================] - 191s 2s/step - loss: 2.4301 - accuracy: 0.3493 - val_loss: 1.0218 - val_accuracy: 0.7632\n",
      "Epoch 2/30\n",
      "98/98 [==============================] - ETA: 0s - loss: 1.3305 - accuracy: 0.6128\n",
      "Epoch 2: val_loss improved from 1.02176 to 0.64091, saving model to temp_model.hdf5\n",
      "98/98 [==============================] - 194s 2s/step - loss: 1.3305 - accuracy: 0.6128 - val_loss: 0.6409 - val_accuracy: 0.8412\n",
      "Epoch 3/30\n",
      "98/98 [==============================] - ETA: 0s - loss: 1.0444 - accuracy: 0.6831\n",
      "Epoch 3: val_loss improved from 0.64091 to 0.50616, saving model to temp_model.hdf5\n",
      "98/98 [==============================] - 181s 2s/step - loss: 1.0444 - accuracy: 0.6831 - val_loss: 0.5062 - val_accuracy: 0.8747\n",
      "Epoch 4/30\n",
      "98/98 [==============================] - ETA: 0s - loss: 0.8782 - accuracy: 0.7197\n",
      "Epoch 4: val_loss improved from 0.50616 to 0.44640, saving model to temp_model.hdf5\n",
      "98/98 [==============================] - 168s 2s/step - loss: 0.8782 - accuracy: 0.7197 - val_loss: 0.4464 - val_accuracy: 0.8830\n",
      "Epoch 5/30\n",
      "98/98 [==============================] - ETA: 0s - loss: 0.7753 - accuracy: 0.7557\n",
      "Epoch 5: val_loss improved from 0.44640 to 0.36829, saving model to temp_model.hdf5\n",
      "98/98 [==============================] - 166s 2s/step - loss: 0.7753 - accuracy: 0.7557 - val_loss: 0.3683 - val_accuracy: 0.9053\n",
      "Epoch 6/30\n",
      "98/98 [==============================] - ETA: 0s - loss: 0.6635 - accuracy: 0.7933\n",
      "Epoch 6: val_loss improved from 0.36829 to 0.33056, saving model to temp_model.hdf5\n",
      "98/98 [==============================] - 170s 2s/step - loss: 0.6635 - accuracy: 0.7933 - val_loss: 0.3306 - val_accuracy: 0.9220\n",
      "Epoch 7/30\n",
      "98/98 [==============================] - ETA: 0s - loss: 0.6329 - accuracy: 0.7984\n",
      "Epoch 7: val_loss improved from 0.33056 to 0.32917, saving model to temp_model.hdf5\n",
      "98/98 [==============================] - 155s 2s/step - loss: 0.6329 - accuracy: 0.7984 - val_loss: 0.3292 - val_accuracy: 0.9109\n",
      "Epoch 8/30\n",
      "98/98 [==============================] - ETA: 0s - loss: 0.5631 - accuracy: 0.8225\n",
      "Epoch 8: val_loss improved from 0.32917 to 0.30750, saving model to temp_model.hdf5\n",
      "98/98 [==============================] - 210s 2s/step - loss: 0.5631 - accuracy: 0.8225 - val_loss: 0.3075 - val_accuracy: 0.9220\n",
      "Epoch 9/30\n",
      "98/98 [==============================] - ETA: 0s - loss: 0.4949 - accuracy: 0.8366\n",
      "Epoch 9: val_loss did not improve from 0.30750\n",
      "98/98 [==============================] - 166s 2s/step - loss: 0.4949 - accuracy: 0.8366 - val_loss: 0.3092 - val_accuracy: 0.9164\n",
      "Epoch 10/30\n",
      "98/98 [==============================] - ETA: 0s - loss: 0.4662 - accuracy: 0.8392  \n",
      "Epoch 10: val_loss improved from 0.30750 to 0.25378, saving model to temp_model.hdf5\n",
      "98/98 [==============================] - 23458s 242s/step - loss: 0.4662 - accuracy: 0.8392 - val_loss: 0.2538 - val_accuracy: 0.9164\n",
      "Epoch 11/30\n",
      "98/98 [==============================] - ETA: 0s - loss: 0.4387 - accuracy: 0.8491\n",
      "Epoch 11: val_loss improved from 0.25378 to 0.23967, saving model to temp_model.hdf5\n",
      "98/98 [==============================] - 152s 2s/step - loss: 0.4387 - accuracy: 0.8491 - val_loss: 0.2397 - val_accuracy: 0.9415\n",
      "Epoch 12/30\n",
      "98/98 [==============================] - ETA: 0s - loss: 0.4062 - accuracy: 0.8636\n",
      "Epoch 12: val_loss improved from 0.23967 to 0.23898, saving model to temp_model.hdf5\n",
      "98/98 [==============================] - 170s 2s/step - loss: 0.4062 - accuracy: 0.8636 - val_loss: 0.2390 - val_accuracy: 0.9443\n",
      "Epoch 13/30\n",
      "98/98 [==============================] - ETA: 0s - loss: 0.3741 - accuracy: 0.8790\n",
      "Epoch 13: val_loss did not improve from 0.23898\n",
      "98/98 [==============================] - 165s 2s/step - loss: 0.3741 - accuracy: 0.8790 - val_loss: 0.2394 - val_accuracy: 0.9276\n",
      "Epoch 14/30\n",
      "98/98 [==============================] - ETA: 0s - loss: 0.3444 - accuracy: 0.8925\n",
      "Epoch 14: val_loss improved from 0.23898 to 0.21105, saving model to temp_model.hdf5\n",
      "98/98 [==============================] - 170s 2s/step - loss: 0.3444 - accuracy: 0.8925 - val_loss: 0.2110 - val_accuracy: 0.9471\n",
      "Epoch 15/30\n",
      "98/98 [==============================] - ETA: 0s - loss: 0.3333 - accuracy: 0.8918\n",
      "Epoch 15: val_loss did not improve from 0.21105\n",
      "98/98 [==============================] - 167s 2s/step - loss: 0.3333 - accuracy: 0.8918 - val_loss: 0.2247 - val_accuracy: 0.9304\n",
      "Epoch 16/30\n",
      "98/98 [==============================] - ETA: 0s - loss: 0.3081 - accuracy: 0.8928\n",
      "Epoch 16: val_loss improved from 0.21105 to 0.20542, saving model to temp_model.hdf5\n",
      "98/98 [==============================] - 170s 2s/step - loss: 0.3081 - accuracy: 0.8928 - val_loss: 0.2054 - val_accuracy: 0.9610\n",
      "Epoch 17/30\n",
      "98/98 [==============================] - ETA: 0s - loss: 0.3013 - accuracy: 0.8986\n",
      "Epoch 17: val_loss improved from 0.20542 to 0.20219, saving model to temp_model.hdf5\n",
      "98/98 [==============================] - 469s 5s/step - loss: 0.3013 - accuracy: 0.8986 - val_loss: 0.2022 - val_accuracy: 0.9499\n",
      "Epoch 18/30\n",
      "98/98 [==============================] - ETA: 0s - loss: 0.2757 - accuracy: 0.9098 \n",
      "Epoch 18: val_loss did not improve from 0.20219\n",
      "98/98 [==============================] - 1505s 15s/step - loss: 0.2757 - accuracy: 0.9098 - val_loss: 0.2071 - val_accuracy: 0.9471\n",
      "Epoch 19/30\n",
      "98/98 [==============================] - ETA: 0s - loss: 0.2665 - accuracy: 0.9072\n",
      "Epoch 19: val_loss improved from 0.20219 to 0.18813, saving model to temp_model.hdf5\n",
      "98/98 [==============================] - 158s 2s/step - loss: 0.2665 - accuracy: 0.9072 - val_loss: 0.1881 - val_accuracy: 0.9582\n",
      "Epoch 20/30\n",
      "98/98 [==============================] - ETA: 0s - loss: 0.2506 - accuracy: 0.9152\n",
      "Epoch 20: val_loss improved from 0.18813 to 0.17794, saving model to temp_model.hdf5\n",
      "98/98 [==============================] - 156s 2s/step - loss: 0.2506 - accuracy: 0.9152 - val_loss: 0.1779 - val_accuracy: 0.9554\n",
      "Epoch 21/30\n",
      "98/98 [==============================] - ETA: 0s - loss: 0.2331 - accuracy: 0.9226\n",
      "Epoch 21: val_loss did not improve from 0.17794\n",
      "98/98 [==============================] - 168s 2s/step - loss: 0.2331 - accuracy: 0.9226 - val_loss: 0.2053 - val_accuracy: 0.9610\n",
      "Epoch 22/30\n",
      "98/98 [==============================] - ETA: 0s - loss: 0.2342 - accuracy: 0.9258\n",
      "Epoch 22: val_loss improved from 0.17794 to 0.17222, saving model to temp_model.hdf5\n",
      "98/98 [==============================] - 170s 2s/step - loss: 0.2342 - accuracy: 0.9258 - val_loss: 0.1722 - val_accuracy: 0.9610\n",
      "Epoch 23/30\n",
      "98/98 [==============================] - ETA: 0s - loss: 0.2145 - accuracy: 0.9239\n",
      "Epoch 23: val_loss improved from 0.17222 to 0.17155, saving model to temp_model.hdf5\n",
      "98/98 [==============================] - 184s 2s/step - loss: 0.2145 - accuracy: 0.9239 - val_loss: 0.1716 - val_accuracy: 0.9610\n",
      "Epoch 24/30\n",
      "98/98 [==============================] - ETA: 0s - loss: 0.2174 - accuracy: 0.9258\n",
      "Epoch 24: val_loss did not improve from 0.17155\n",
      "98/98 [==============================] - 170s 2s/step - loss: 0.2174 - accuracy: 0.9258 - val_loss: 0.1743 - val_accuracy: 0.9638\n",
      "Epoch 25/30\n",
      "98/98 [==============================] - ETA: 0s - loss: 0.1908 - accuracy: 0.9348\n",
      "Epoch 25: val_loss did not improve from 0.17155\n",
      "98/98 [==============================] - 180s 2s/step - loss: 0.1908 - accuracy: 0.9348 - val_loss: 0.1868 - val_accuracy: 0.9610\n",
      "Epoch 26/30\n",
      "98/98 [==============================] - ETA: 0s - loss: 0.1934 - accuracy: 0.9313\n",
      "Epoch 26: val_loss did not improve from 0.17155\n",
      "98/98 [==============================] - 171s 2s/step - loss: 0.1934 - accuracy: 0.9313 - val_loss: 0.1947 - val_accuracy: 0.9582\n",
      "Epoch 27/30\n",
      "98/98 [==============================] - ETA: 0s - loss: 0.1801 - accuracy: 0.9406\n",
      "Epoch 27: val_loss did not improve from 0.17155\n",
      "98/98 [==============================] - 165s 2s/step - loss: 0.1801 - accuracy: 0.9406 - val_loss: 0.1862 - val_accuracy: 0.9582\n"
     ]
    }
   ],
   "source": [
    "import scipy\n",
    "history = model.fit(train_gen,\n",
    "                    validation_data = test_gen,\n",
    "                    epochs=30,\n",
    "                    verbose=1,\n",
    "                    callbacks=[es, cp])"
   ]
  },
  {
   "cell_type": "code",
   "execution_count": 9,
   "metadata": {},
   "outputs": [
    {
     "data": {
      "text/plain": [
       "<Axes: >"
      ]
     },
     "execution_count": 9,
     "metadata": {},
     "output_type": "execute_result"
    },
    {
     "data": {
      "image/png": "[encoded data removed]",
      "text/plain": [
       "<Figure size 640x480 with 1 Axes>"
      ]
     },
     "metadata": {},
     "output_type": "display_data"
    },
    {
     "data": {
      "image/png": "[encoded data removed]",
      "text/plain": [
       "<Figure size 640x480 with 1 Axes>"
      ]
     },
     "metadata": {},
     "output_type": "display_data"
    }
   ],
   "source": [
    "history_df = pd.DataFrame(history.history)\n",
    "history_df.loc[:, ['loss', 'val_loss']].plot()\n",
    "history_df.loc[:, ['accuracy', 'val_accuracy']].plot()"
   ]
  }
 ],
 "metadata": {
  "kernelspec": {
   "display_name": "venv",
   "language": "python",
   "name": "python3"
  },
  "language_info": {
   "codemirror_mode": {
    "name": "ipython",
    "version": 3
   },
   "file_extension": ".py",
   "mimetype": "text/x-python",
   "name": "python",
   "nbconvert_exporter": "python",
   "pygments_lexer": "ipython3",
   "version": "3.10.12"
  }
 },
 "nbformat": 4,
 "nbformat_minor": 2
}
